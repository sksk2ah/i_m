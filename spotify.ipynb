{
 "cells": [
  {
   "cell_type": "markdown",
   "metadata": {},
   "source": [
    "#스키마 상세 내용\n",
    "- 1) Age - 사용자의 연령층?\n",
    "- 2) Gender - 사용자의 성별은?\n",
    "- 3) spotify_usage_period - Spotify를 사용한 지 얼마나 되었나요?\n",
    "- 4) spotify_listening_device - 다음 중 Spotify를 청취할 때 주로 사용하는 장치는 무엇입니까?\n",
    "- 5) spotify_subscription_plan - 현재 어떤 Spotify 구독 계획을 갖고 계시나요?\n",
    "- 6) premium_sub_willingness - 프리미엄 구독을 하시겠습니까, 아니면 앞으로도 프리미엄 구독을 계속할 의향이 있습니까?\n",
    "- 7) preffered_premium_plan - 프리미엄이거나 프리미엄을 받을 의향이 있는 경우 구독료로 얼마를 지불합니까?\n",
    "- 8) preferred_listening_content - 무엇을 더 듣고 싶나요?\n",
    "- 9) fav_music_genre - 어떤 장르의 음악을 가장 좋아하시나요?\n",
    "- 10) music_time_slott - 가장 좋아하는 음악 감상 시간은 언제인가요?\n",
    "- 11) music_Influencial_mood - 음악을 들을 때 다음 중 어떤 기분이나 상황이 음악 선택에 가장 큰 영향을 미치나요?\n",
    "- 12) music_lis_frequency - 언제 음악을 더 자주 듣나요?\n",
    "- 13) music_expl_method - Spotify에서 새로운 음악을 어떻게 발견하나요?\n",
    "- 14) music_recc_rating - Spotify 음악 추천을 어떻게 평가하시나요?\n",
    "- 15) pod_lis_frequency - 팟캐스트를 얼마나 자주 듣나요?\n",
    "- 16) fav_pod_genre - 팟캐스트 중 어떤 장르를 가장 좋아하시나요?\n",
    "- 17) preffered_pod_format - 일반적으로 선호하는 팟캐스트 형식은 무엇입니까?\n",
    "- 18) pod_host_preference - 알려지지 않은 인물의 팟캐스트를 듣는 것을 더 선호합니까, 아니면 유명인이 호스팅하는 팟캐스트를 선호합니까?\n",
    "- 19) preffered_pod_duration - 짧은 팟캐스트 에피소드(30분 미만) 또는 긴 에피소드(30분 이상)를 선호합니까?\n",
    "- 20) pod_variety_satisfaction - Spotify의 팟캐스트의 다양성과 가용성에 만족하시나요?"
   ]
  },
  {
   "cell_type": "code",
   "execution_count": 4,
   "metadata": {},
   "outputs": [
    {
     "data": {
      "text/html": [
       "<div>\n",
       "<style scoped>\n",
       "    .dataframe tbody tr th:only-of-type {\n",
       "        vertical-align: middle;\n",
       "    }\n",
       "\n",
       "    .dataframe tbody tr th {\n",
       "        vertical-align: top;\n",
       "    }\n",
       "\n",
       "    .dataframe thead th {\n",
       "        text-align: right;\n",
       "    }\n",
       "</style>\n",
       "<table border=\"1\" class=\"dataframe\">\n",
       "  <thead>\n",
       "    <tr style=\"text-align: right;\">\n",
       "      <th></th>\n",
       "      <th>Age</th>\n",
       "      <th>Gender</th>\n",
       "      <th>spotify_usage_period</th>\n",
       "      <th>spotify_listening_device</th>\n",
       "      <th>spotify_subscription_plan</th>\n",
       "      <th>premium_sub_willingness</th>\n",
       "      <th>preffered_premium_plan</th>\n",
       "      <th>preferred_listening_content</th>\n",
       "      <th>fav_music_genre</th>\n",
       "      <th>music_time_slot</th>\n",
       "      <th>music_Influencial_mood</th>\n",
       "      <th>music_lis_frequency</th>\n",
       "      <th>music_expl_method</th>\n",
       "      <th>music_recc_rating</th>\n",
       "      <th>pod_lis_frequency</th>\n",
       "      <th>fav_pod_genre</th>\n",
       "      <th>preffered_pod_format</th>\n",
       "      <th>pod_host_preference</th>\n",
       "      <th>preffered_pod_duration</th>\n",
       "      <th>pod_variety_satisfaction</th>\n",
       "    </tr>\n",
       "  </thead>\n",
       "  <tbody>\n",
       "    <tr>\n",
       "      <th>0</th>\n",
       "      <td>20-35</td>\n",
       "      <td>Female</td>\n",
       "      <td>More than 2 years</td>\n",
       "      <td>Smart speakers or voice assistants</td>\n",
       "      <td>Free (ad-supported)</td>\n",
       "      <td>Yes</td>\n",
       "      <td>Family Plan-Rs 179/month</td>\n",
       "      <td>Podcast</td>\n",
       "      <td>Melody</td>\n",
       "      <td>Night</td>\n",
       "      <td>Sadness or melancholy</td>\n",
       "      <td>leisure time</td>\n",
       "      <td>Playlists</td>\n",
       "      <td>3</td>\n",
       "      <td>Daily</td>\n",
       "      <td>Comedy</td>\n",
       "      <td>Interview</td>\n",
       "      <td>Both</td>\n",
       "      <td>Both</td>\n",
       "      <td>Ok</td>\n",
       "    </tr>\n",
       "    <tr>\n",
       "      <th>1</th>\n",
       "      <td>12-20</td>\n",
       "      <td>Male</td>\n",
       "      <td>More than 2 years</td>\n",
       "      <td>Computer or laptop</td>\n",
       "      <td>Free (ad-supported)</td>\n",
       "      <td>Yes</td>\n",
       "      <td>Individual Plan- Rs 119/ month</td>\n",
       "      <td>Podcast</td>\n",
       "      <td>Rap</td>\n",
       "      <td>Afternoon</td>\n",
       "      <td>Social gatherings or parties</td>\n",
       "      <td>Workout session</td>\n",
       "      <td>Playlists</td>\n",
       "      <td>2</td>\n",
       "      <td>Several times a week</td>\n",
       "      <td>Comedy</td>\n",
       "      <td>Interview</td>\n",
       "      <td>Both</td>\n",
       "      <td>NaN</td>\n",
       "      <td>Satisfied</td>\n",
       "    </tr>\n",
       "    <tr>\n",
       "      <th>2</th>\n",
       "      <td>35-60</td>\n",
       "      <td>Others</td>\n",
       "      <td>6 months to 1 year</td>\n",
       "      <td>Smart speakers or voice assistants</td>\n",
       "      <td>Free (ad-supported)</td>\n",
       "      <td>Yes</td>\n",
       "      <td>Student Plan-Rs 59/month</td>\n",
       "      <td>Podcast</td>\n",
       "      <td>Pop</td>\n",
       "      <td>Night</td>\n",
       "      <td>Relaxation and stress relief</td>\n",
       "      <td>Study Hours, While Traveling</td>\n",
       "      <td>Playlists</td>\n",
       "      <td>4</td>\n",
       "      <td>Once a week</td>\n",
       "      <td>Sports</td>\n",
       "      <td>Interview</td>\n",
       "      <td>NaN</td>\n",
       "      <td>Both</td>\n",
       "      <td>Satisfied</td>\n",
       "    </tr>\n",
       "  </tbody>\n",
       "</table>\n",
       "</div>"
      ],
      "text/plain": [
       "     Age  Gender spotify_usage_period            spotify_listening_device  \\\n",
       "0  20-35  Female    More than 2 years  Smart speakers or voice assistants   \n",
       "1  12-20    Male    More than 2 years                  Computer or laptop   \n",
       "2  35-60  Others   6 months to 1 year  Smart speakers or voice assistants   \n",
       "\n",
       "  spotify_subscription_plan premium_sub_willingness  \\\n",
       "0       Free (ad-supported)                     Yes   \n",
       "1       Free (ad-supported)                     Yes   \n",
       "2       Free (ad-supported)                     Yes   \n",
       "\n",
       "           preffered_premium_plan preferred_listening_content fav_music_genre  \\\n",
       "0        Family Plan-Rs 179/month                     Podcast          Melody   \n",
       "1  Individual Plan- Rs 119/ month                     Podcast             Rap   \n",
       "2        Student Plan-Rs 59/month                     Podcast             Pop   \n",
       "\n",
       "  music_time_slot        music_Influencial_mood           music_lis_frequency  \\\n",
       "0           Night         Sadness or melancholy                  leisure time   \n",
       "1       Afternoon  Social gatherings or parties               Workout session   \n",
       "2           Night  Relaxation and stress relief  Study Hours, While Traveling   \n",
       "\n",
       "  music_expl_method  music_recc_rating     pod_lis_frequency fav_pod_genre  \\\n",
       "0         Playlists                  3                 Daily        Comedy   \n",
       "1         Playlists                  2  Several times a week        Comedy   \n",
       "2         Playlists                  4           Once a week        Sports   \n",
       "\n",
       "  preffered_pod_format pod_host_preference preffered_pod_duration  \\\n",
       "0            Interview                Both                   Both   \n",
       "1            Interview                Both                    NaN   \n",
       "2            Interview                 NaN                   Both   \n",
       "\n",
       "  pod_variety_satisfaction  \n",
       "0                       Ok  \n",
       "1                Satisfied  \n",
       "2                Satisfied  "
      ]
     },
     "execution_count": 4,
     "metadata": {},
     "output_type": "execute_result"
    }
   ],
   "source": [
    "import pandas as pd\n",
    "import matplotlib.pyplot as plt\n",
    "import numpy as np\n",
    "spotify_df = pd.read_csv('/Users/seojeongsig/Documents/GitHub/IS-Realists/Spotify_data.csv')\n",
    "spotify_df.head(3)"
   ]
  },
  {
   "cell_type": "code",
   "execution_count": 5,
   "metadata": {},
   "outputs": [
    {
     "name": "stdout",
     "output_type": "stream",
     "text": [
      "<class 'pandas.core.frame.DataFrame'>\n",
      "RangeIndex: 520 entries, 0 to 519\n",
      "Data columns (total 20 columns):\n",
      " #   Column                       Non-Null Count  Dtype \n",
      "---  ------                       --------------  ----- \n",
      " 0   Age                          520 non-null    object\n",
      " 1   Gender                       520 non-null    object\n",
      " 2   spotify_usage_period         520 non-null    object\n",
      " 3   spotify_listening_device     520 non-null    object\n",
      " 4   spotify_subscription_plan    520 non-null    object\n",
      " 5   premium_sub_willingness      520 non-null    object\n",
      " 6   preffered_premium_plan       312 non-null    object\n",
      " 7   preferred_listening_content  520 non-null    object\n",
      " 8   fav_music_genre              520 non-null    object\n",
      " 9   music_time_slot              520 non-null    object\n",
      " 10  music_Influencial_mood       520 non-null    object\n",
      " 11  music_lis_frequency          520 non-null    object\n",
      " 12  music_expl_method            520 non-null    object\n",
      " 13  music_recc_rating            520 non-null    int64 \n",
      " 14  pod_lis_frequency            520 non-null    object\n",
      " 15  fav_pod_genre                372 non-null    object\n",
      " 16  preffered_pod_format         380 non-null    object\n",
      " 17  pod_host_preference          379 non-null    object\n",
      " 18  preffered_pod_duration       391 non-null    object\n",
      " 19  pod_variety_satisfaction     520 non-null    object\n",
      "dtypes: int64(1), object(19)\n",
      "memory usage: 81.4+ KB\n"
     ]
    }
   ],
   "source": [
    "spotify_df.info()"
   ]
  },
  {
   "cell_type": "code",
   "execution_count": null,
   "metadata": {},
   "outputs": [],
   "source": [
    "# 'fav_pod_genre - 어떤 장르를 선호하는지', 'preffered_pod_format - 선호하는 팟캐스트 형식'\n",
    "# 'pod_host_preference  - 유명 or 마이너 팟캐스트 선호 여부', 'preffered_pod_duration - 짧은 or 긴 시간 팟캐스트 선호 여부' 결측치 있음\n",
    "spotify_df.isnull().sum()"
   ]
  },
  {
   "cell_type": "code",
   "execution_count": 22,
   "metadata": {},
   "outputs": [
    {
     "data": {
      "text/html": [
       "<div>\n",
       "<style scoped>\n",
       "    .dataframe tbody tr th:only-of-type {\n",
       "        vertical-align: middle;\n",
       "    }\n",
       "\n",
       "    .dataframe tbody tr th {\n",
       "        vertical-align: top;\n",
       "    }\n",
       "\n",
       "    .dataframe thead th {\n",
       "        text-align: right;\n",
       "    }\n",
       "</style>\n",
       "<table border=\"1\" class=\"dataframe\">\n",
       "  <thead>\n",
       "    <tr style=\"text-align: right;\">\n",
       "      <th></th>\n",
       "      <th>Age</th>\n",
       "      <th>Gender</th>\n",
       "      <th>spotify_usage_period</th>\n",
       "      <th>spotify_listening_device</th>\n",
       "      <th>spotify_subscription_plan</th>\n",
       "      <th>premium_sub_willingness</th>\n",
       "      <th>preffered_premium_plan</th>\n",
       "      <th>preferred_listening_content</th>\n",
       "      <th>fav_music_genre</th>\n",
       "      <th>music_time_slot</th>\n",
       "      <th>music_Influencial_mood</th>\n",
       "      <th>music_lis_frequency</th>\n",
       "      <th>music_expl_method</th>\n",
       "      <th>music_recc_rating</th>\n",
       "      <th>pod_lis_frequency</th>\n",
       "      <th>fav_pod_genre</th>\n",
       "      <th>preffered_pod_format</th>\n",
       "      <th>pod_host_preference</th>\n",
       "      <th>preffered_pod_duration</th>\n",
       "      <th>pod_variety_satisfaction</th>\n",
       "    </tr>\n",
       "  </thead>\n",
       "  <tbody>\n",
       "    <tr>\n",
       "      <th>14</th>\n",
       "      <td>20-35</td>\n",
       "      <td>Female</td>\n",
       "      <td>More than 2 years</td>\n",
       "      <td>Smartphone</td>\n",
       "      <td>Free (ad-supported)</td>\n",
       "      <td>Yes</td>\n",
       "      <td>NaN</td>\n",
       "      <td>Music</td>\n",
       "      <td>Pop</td>\n",
       "      <td>Morning</td>\n",
       "      <td>Relaxation and stress relief</td>\n",
       "      <td>Office hours</td>\n",
       "      <td>recommendations, Playlists</td>\n",
       "      <td>5</td>\n",
       "      <td>Rarely</td>\n",
       "      <td>Lifestyle and Health</td>\n",
       "      <td>Educational</td>\n",
       "      <td>Well known individuals</td>\n",
       "      <td>Shorter</td>\n",
       "      <td>Very Satisfied</td>\n",
       "    </tr>\n",
       "    <tr>\n",
       "      <th>33</th>\n",
       "      <td>12-20</td>\n",
       "      <td>Male</td>\n",
       "      <td>More than 2 years</td>\n",
       "      <td>Smartphone</td>\n",
       "      <td>Free (ad-supported)</td>\n",
       "      <td>Yes</td>\n",
       "      <td>NaN</td>\n",
       "      <td>Music</td>\n",
       "      <td>Pop</td>\n",
       "      <td>Night</td>\n",
       "      <td>Relaxation and stress relief</td>\n",
       "      <td>While Traveling</td>\n",
       "      <td>recommendations</td>\n",
       "      <td>3</td>\n",
       "      <td>Rarely</td>\n",
       "      <td>Comedy</td>\n",
       "      <td>Conversational</td>\n",
       "      <td>Both</td>\n",
       "      <td>Both</td>\n",
       "      <td>Ok</td>\n",
       "    </tr>\n",
       "    <tr>\n",
       "      <th>60</th>\n",
       "      <td>20-35</td>\n",
       "      <td>Male</td>\n",
       "      <td>More than 2 years</td>\n",
       "      <td>Smartphone</td>\n",
       "      <td>Free (ad-supported)</td>\n",
       "      <td>Yes</td>\n",
       "      <td>NaN</td>\n",
       "      <td>Music</td>\n",
       "      <td>classical</td>\n",
       "      <td>Night</td>\n",
       "      <td>Relaxation and stress relief, Uplifting and mo...</td>\n",
       "      <td>While Traveling, leisure time</td>\n",
       "      <td>recommendations</td>\n",
       "      <td>4</td>\n",
       "      <td>Rarely</td>\n",
       "      <td>Sports</td>\n",
       "      <td>Conversational</td>\n",
       "      <td>Well known individuals</td>\n",
       "      <td>Both</td>\n",
       "      <td>Satisfied</td>\n",
       "    </tr>\n",
       "    <tr>\n",
       "      <th>203</th>\n",
       "      <td>20-35</td>\n",
       "      <td>Female</td>\n",
       "      <td>Less than 6 months</td>\n",
       "      <td>Smartphone</td>\n",
       "      <td>Premium (paid subscription)</td>\n",
       "      <td>Yes</td>\n",
       "      <td>NaN</td>\n",
       "      <td>Music</td>\n",
       "      <td>Melody</td>\n",
       "      <td>Night</td>\n",
       "      <td>Relaxation and stress relief, Sadness or melan...</td>\n",
       "      <td>While Traveling</td>\n",
       "      <td>recommendations, Playlists</td>\n",
       "      <td>5</td>\n",
       "      <td>Rarely</td>\n",
       "      <td>Comedy</td>\n",
       "      <td>Conversational</td>\n",
       "      <td>Well known individuals</td>\n",
       "      <td>Shorter</td>\n",
       "      <td>Satisfied</td>\n",
       "    </tr>\n",
       "    <tr>\n",
       "      <th>346</th>\n",
       "      <td>20-35</td>\n",
       "      <td>Female</td>\n",
       "      <td>More than 2 years</td>\n",
       "      <td>Smartphone</td>\n",
       "      <td>Free (ad-supported)</td>\n",
       "      <td>Yes</td>\n",
       "      <td>NaN</td>\n",
       "      <td>Music</td>\n",
       "      <td>Melody</td>\n",
       "      <td>Night</td>\n",
       "      <td>Relaxation and stress relief</td>\n",
       "      <td>While Traveling</td>\n",
       "      <td>recommendations</td>\n",
       "      <td>3</td>\n",
       "      <td>Rarely</td>\n",
       "      <td>Comedy</td>\n",
       "      <td>Conversational</td>\n",
       "      <td>Both</td>\n",
       "      <td>Shorter</td>\n",
       "      <td>Ok</td>\n",
       "    </tr>\n",
       "  </tbody>\n",
       "</table>\n",
       "</div>"
      ],
      "text/plain": [
       "       Age  Gender spotify_usage_period spotify_listening_device  \\\n",
       "14   20-35  Female    More than 2 years               Smartphone   \n",
       "33   12-20    Male    More than 2 years               Smartphone   \n",
       "60   20-35    Male    More than 2 years               Smartphone   \n",
       "203  20-35  Female   Less than 6 months               Smartphone   \n",
       "346  20-35  Female    More than 2 years               Smartphone   \n",
       "\n",
       "       spotify_subscription_plan premium_sub_willingness  \\\n",
       "14           Free (ad-supported)                     Yes   \n",
       "33           Free (ad-supported)                     Yes   \n",
       "60           Free (ad-supported)                     Yes   \n",
       "203  Premium (paid subscription)                     Yes   \n",
       "346          Free (ad-supported)                     Yes   \n",
       "\n",
       "    preffered_premium_plan preferred_listening_content fav_music_genre  \\\n",
       "14                     NaN                       Music             Pop   \n",
       "33                     NaN                       Music             Pop   \n",
       "60                     NaN                       Music       classical   \n",
       "203                    NaN                       Music          Melody   \n",
       "346                    NaN                       Music          Melody   \n",
       "\n",
       "    music_time_slot                             music_Influencial_mood  \\\n",
       "14          Morning                       Relaxation and stress relief   \n",
       "33            Night                       Relaxation and stress relief   \n",
       "60            Night  Relaxation and stress relief, Uplifting and mo...   \n",
       "203           Night  Relaxation and stress relief, Sadness or melan...   \n",
       "346           Night                       Relaxation and stress relief   \n",
       "\n",
       "               music_lis_frequency           music_expl_method  \\\n",
       "14                    Office hours  recommendations, Playlists   \n",
       "33                 While Traveling             recommendations   \n",
       "60   While Traveling, leisure time             recommendations   \n",
       "203                While Traveling  recommendations, Playlists   \n",
       "346                While Traveling             recommendations   \n",
       "\n",
       "     music_recc_rating pod_lis_frequency         fav_pod_genre  \\\n",
       "14                   5            Rarely  Lifestyle and Health   \n",
       "33                   3            Rarely                Comedy   \n",
       "60                   4            Rarely                Sports   \n",
       "203                  5            Rarely                Comedy   \n",
       "346                  3            Rarely                Comedy   \n",
       "\n",
       "    preffered_pod_format     pod_host_preference preffered_pod_duration  \\\n",
       "14           Educational  Well known individuals                Shorter   \n",
       "33        Conversational                    Both                   Both   \n",
       "60        Conversational  Well known individuals                   Both   \n",
       "203       Conversational  Well known individuals                Shorter   \n",
       "346       Conversational                    Both                Shorter   \n",
       "\n",
       "    pod_variety_satisfaction  \n",
       "14            Very Satisfied  \n",
       "33                        Ok  \n",
       "60                 Satisfied  \n",
       "203                Satisfied  \n",
       "346                       Ok  "
      ]
     },
     "execution_count": 22,
     "metadata": {},
     "output_type": "execute_result"
    }
   ],
   "source": [
    "# 프리미엄 구독 의향 'Yes'인 값 중 'preffered_premium_plan' NaN값 5row 있음\n",
    "#null 값이 아닌 NaN값으로 데이터 집계가 잘못된 것으로 판단됨\n",
    "spotify_df.loc[(spotify_df['premium_sub_willingness'] == 'Yes') & (spotify_df['preffered_premium_plan'].isnull())]"
   ]
  },
  {
   "cell_type": "code",
   "execution_count": 33,
   "metadata": {},
   "outputs": [],
   "source": [
    "# PK인 ID가 없어 Index로 ID부여, ID는 1부터 시작\n",
    "spotify_df['ID'] = spotify_df.index+1"
   ]
  },
  {
   "cell_type": "code",
   "execution_count": 46,
   "metadata": {},
   "outputs": [
    {
     "data": {
      "text/plain": [
       "Gender\n",
       "Female    391\n",
       "Male      114\n",
       "Others     15\n",
       "Name: ID, dtype: int64"
      ]
     },
     "execution_count": 46,
     "metadata": {},
     "output_type": "execute_result"
    }
   ],
   "source": [
    "a = spotify_df.groupby('Gender')['ID'].count()\n",
    "a"
   ]
  },
  {
   "cell_type": "code",
   "execution_count": 48,
   "metadata": {},
   "outputs": [
    {
     "data": {
      "text/plain": [
       "<Axes: xlabel='Age', ylabel='count'>"
      ]
     },
     "execution_count": 48,
     "metadata": {},
     "output_type": "execute_result"
    },
    {
     "data": {
      "image/png": "[encoded data removed]",
      "text/plain": [
       "<Figure size 640x480 with 1 Axes>"
      ]
     },
     "metadata": {},
     "output_type": "display_data"
    }
   ],
   "source": [
    "#주 사용자 20-35세 여성\n",
    "#Gender에 Ohers 값 존재\n",
    "plt.rcParams['font.family'] = 'AppleGothic'\n",
    "sns.countplot(x='Age', data=spotify_df)\n",
    "sns.countplot(x='Gender', data=spotify_df)"
   ]
  },
  {
   "cell_type": "code",
   "execution_count": 77,
   "metadata": {},
   "outputs": [
    {
     "data": {
      "image/png": "[encoded data removed]",
      "text/plain": [
       "<Figure size 1200x600 with 1 Axes>"
      ]
     },
     "metadata": {},
     "output_type": "display_data"
    }
   ],
   "source": [
    "# 2년 이상, 1년이상 2년 미만 사용자 다수\n",
    "# 6개월 이하 사용자 가장 적음\n",
    "# 약 80%사용자가 무료 광고형 요금제 사용, 20% 수준이 프리미엄 요금제 사용\n",
    "plt.figure(figsize=(12, 6))\n",
    "\n",
    "sns.countplot(x='spotify_usage_period', data=spotify_df)\n",
    "sns.countplot(x='spotify_subscription_plan', data=spotify_df)\n",
    "plt.show()"
   ]
  },
  {
   "cell_type": "code",
   "execution_count": 64,
   "metadata": {},
   "outputs": [
    {
     "data": {
      "text/plain": [
       "spotify_listening_device\n",
       "Computer or laptop                                                                       54\n",
       "Computer or laptop, Smart speakers or voice assistants                                   14\n",
       "Computer or laptop, Smart speakers or voice assistants, Wearable devices                  3\n",
       "Computer or laptop, Wearable devices                                                      5\n",
       "Smart speakers or voice assistants                                                       43\n",
       "Smart speakers or voice assistants, Wearable devices                                      2\n",
       "Smartphone                                                                              300\n",
       "Smartphone, Computer or laptop                                                           48\n",
       "Smartphone, Computer or laptop, Smart speakers or voice assistants                        7\n",
       "Smartphone, Computer or laptop, Smart speakers or voice assistants, Wearable devices      8\n",
       "Smartphone, Computer or laptop, Wearable devices                                          5\n",
       "Smartphone, Smart speakers or voice assistants                                           10\n",
       "Smartphone, Smart speakers or voice assistants, Wearable devices                          5\n",
       "Smartphone, Wearable devices                                                              8\n",
       "Wearable devices                                                                          8\n",
       "Name: ID, dtype: int64"
      ]
     },
     "execution_count": 64,
     "metadata": {},
     "output_type": "execute_result"
    }
   ],
   "source": [
    "# 대부분의 사용자가 smartphone 단일 기기 이용\n",
    "spotify_df.groupby('spotify_listening_device')['ID'].count()"
   ]
  },
  {
   "cell_type": "code",
   "execution_count": 65,
   "metadata": {},
   "outputs": [
    {
     "data": {
      "text/plain": [
       "<Axes: xlabel='spotify_subscription_plan', ylabel='count'>"
      ]
     },
     "execution_count": 65,
     "metadata": {},
     "output_type": "execute_result"
    },
    {
     "data": {
      "image/png": "[encoded data removed]",
      "text/plain": [
       "<Figure size 640x480 with 1 Axes>"
      ]
     },
     "metadata": {},
     "output_type": "display_data"
    }
   ],
   "source": [
    "sns.countplot(x='spotify_subscription_plan', data=spotify_df)\n"
   ]
  }
 ],
 "metadata": {
  "kernelspec": {
   "display_name": "Python 3",
   "language": "python",
   "name": "python3"
  },
  "language_info": {
   "codemirror_mode": {
    "name": "ipython",
    "version": 3
   },
   "file_extension": ".py",
   "mimetype": "text/x-python",
   "name": "python",
   "nbconvert_exporter": "python",
   "pygments_lexer": "ipython3",
   "version": "3.9.6"
  }
 },
 "nbformat": 4,
 "nbformat_minor": 2
}
